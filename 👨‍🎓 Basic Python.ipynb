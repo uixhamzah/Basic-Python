{
 "cells": [
  {
   "cell_type": "markdown",
   "id": "88be7f1f",
   "metadata": {},
   "source": [
    "# Basic Pyhton "
   ]
  },
  {
   "cell_type": "code",
   "execution_count": 39,
   "id": "49754c12",
   "metadata": {},
   "outputs": [
    {
     "data": {
      "text/html": [
       "<H1>Welcome learning to basic Python with Hamzah 🖐 </H1>\n"
      ],
      "text/plain": [
       "<IPython.core.display.HTML object>"
      ]
     },
     "metadata": {},
     "output_type": "display_data"
    },
    {
     "data": {
      "application/javascript": [
       "\n",
       "            setTimeout(function() {\n",
       "                var nbb_cell_id = 39;\n",
       "                var nbb_unformatted_code = \"%%HTML\\n<H1>Welcome learning to basic Python with Hamzah \\ud83d\\udd90 </H1>\";\n",
       "                var nbb_formatted_code = \"%%HTML\\n<H1>Welcome learning to basic Python with Hamzah \\ud83d\\udd90 </H1>\";\n",
       "                var nbb_cells = Jupyter.notebook.get_cells();\n",
       "                for (var i = 0; i < nbb_cells.length; ++i) {\n",
       "                    if (nbb_cells[i].input_prompt_number == nbb_cell_id) {\n",
       "                        if (nbb_cells[i].get_text() == nbb_unformatted_code) {\n",
       "                             nbb_cells[i].set_text(nbb_formatted_code);\n",
       "                        }\n",
       "                        break;\n",
       "                    }\n",
       "                }\n",
       "            }, 500);\n",
       "            "
      ],
      "text/plain": [
       "<IPython.core.display.Javascript object>"
      ]
     },
     "metadata": {},
     "output_type": "display_data"
    }
   ],
   "source": [
    "%%HTML\n",
    "<H1>Welcome learning to basic Python with Hamzah 🖐 </H1>"
   ]
  },
  {
   "cell_type": "code",
   "execution_count": 38,
   "id": "ea488778",
   "metadata": {},
   "outputs": [
    {
     "name": "stdout",
     "output_type": "stream",
     "text": [
      "Hello Ngab!!!\n"
     ]
    },
    {
     "data": {
      "application/javascript": [
       "\n",
       "            setTimeout(function() {\n",
       "                var nbb_cell_id = 38;\n",
       "                var nbb_unformatted_code = \"# Learning Pyhton Ngab!!!!\\nprint(\\\"Hello Ngab!!!\\\")\";\n",
       "                var nbb_formatted_code = \"# Learning Pyhton Ngab!!!!\\nprint(\\\"Hello Ngab!!!\\\")\";\n",
       "                var nbb_cells = Jupyter.notebook.get_cells();\n",
       "                for (var i = 0; i < nbb_cells.length; ++i) {\n",
       "                    if (nbb_cells[i].input_prompt_number == nbb_cell_id) {\n",
       "                        if (nbb_cells[i].get_text() == nbb_unformatted_code) {\n",
       "                             nbb_cells[i].set_text(nbb_formatted_code);\n",
       "                        }\n",
       "                        break;\n",
       "                    }\n",
       "                }\n",
       "            }, 500);\n",
       "            "
      ],
      "text/plain": [
       "<IPython.core.display.Javascript object>"
      ]
     },
     "metadata": {},
     "output_type": "display_data"
    }
   ],
   "source": [
    "# Learning Pyhton Ngab!!!!\n",
    "print(\"Hello Ngab!!!\")"
   ]
  },
  {
   "cell_type": "markdown",
   "id": "61cc696a",
   "metadata": {},
   "source": [
    "## Print Statments & Comment"
   ]
  },
  {
   "cell_type": "code",
   "execution_count": 67,
   "id": "74b09386",
   "metadata": {},
   "outputs": [
    {
     "name": "stdout",
     "output_type": "stream",
     "text": [
      "Hello World\n"
     ]
    },
    {
     "data": {
      "application/javascript": [
       "\n",
       "            setTimeout(function() {\n",
       "                var nbb_cell_id = 67;\n",
       "                var nbb_unformatted_code = \"print (\\\"Hello World\\\")\";\n",
       "                var nbb_formatted_code = \"print(\\\"Hello World\\\")\";\n",
       "                var nbb_cells = Jupyter.notebook.get_cells();\n",
       "                for (var i = 0; i < nbb_cells.length; ++i) {\n",
       "                    if (nbb_cells[i].input_prompt_number == nbb_cell_id) {\n",
       "                        if (nbb_cells[i].get_text() == nbb_unformatted_code) {\n",
       "                             nbb_cells[i].set_text(nbb_formatted_code);\n",
       "                        }\n",
       "                        break;\n",
       "                    }\n",
       "                }\n",
       "            }, 500);\n",
       "            "
      ],
      "text/plain": [
       "<IPython.core.display.Javascript object>"
      ]
     },
     "metadata": {},
     "output_type": "display_data"
    }
   ],
   "source": [
    "print(\"Hello World\")"
   ]
  },
  {
   "cell_type": "markdown",
   "id": "e81bdc67",
   "metadata": {},
   "source": [
    "## Variables"
   ]
  },
  {
   "cell_type": "markdown",
   "id": "cd8d3006",
   "metadata": {},
   "source": [
    "### Interger, Float & String"
   ]
  },
  {
   "cell_type": "code",
   "execution_count": 66,
   "id": "93dfc00e",
   "metadata": {},
   "outputs": [
    {
     "name": "stdout",
     "output_type": "stream",
     "text": [
      "100\n",
      "36.5\n",
      "Room 1\n"
     ]
    },
    {
     "data": {
      "application/javascript": [
       "\n",
       "            setTimeout(function() {\n",
       "                var nbb_cell_id = 66;\n",
       "                var nbb_unformatted_code = \"people = 100 # int\\ntemperatur = 36.5 # Float\\nroom_name = \\\"Room 1\\\" # string\\n\\nprint (people)\\nprint (temperatur)\\nprint (room_name)\";\n",
       "                var nbb_formatted_code = \"people = 100  # int\\ntemperatur = 36.5  # Float\\nroom_name = \\\"Room 1\\\"  # string\\n\\nprint(people)\\nprint(temperatur)\\nprint(room_name)\";\n",
       "                var nbb_cells = Jupyter.notebook.get_cells();\n",
       "                for (var i = 0; i < nbb_cells.length; ++i) {\n",
       "                    if (nbb_cells[i].input_prompt_number == nbb_cell_id) {\n",
       "                        if (nbb_cells[i].get_text() == nbb_unformatted_code) {\n",
       "                             nbb_cells[i].set_text(nbb_formatted_code);\n",
       "                        }\n",
       "                        break;\n",
       "                    }\n",
       "                }\n",
       "            }, 500);\n",
       "            "
      ],
      "text/plain": [
       "<IPython.core.display.Javascript object>"
      ]
     },
     "metadata": {},
     "output_type": "display_data"
    }
   ],
   "source": [
    "people = 100  # int\n",
    "temperatur = 36.5  # Float\n",
    "room_name = \"Room 1\"  # string\n",
    "\n",
    "print(people)\n",
    "print(temperatur)\n",
    "print(room_name)"
   ]
  },
  {
   "cell_type": "markdown",
   "id": "40bcdf4b",
   "metadata": {},
   "source": [
    "## list"
   ]
  },
  {
   "cell_type": "code",
   "execution_count": 71,
   "id": "3e477de2",
   "metadata": {},
   "outputs": [
    {
     "name": "stdout",
     "output_type": "stream",
     "text": [
      "['apple', 'banana']\n",
      "['This is string', 10, 'Machine Learning']\n"
     ]
    },
    {
     "data": {
      "application/javascript": [
       "\n",
       "            setTimeout(function() {\n",
       "                var nbb_cell_id = 71;\n",
       "                var nbb_unformatted_code = \"fruits = []  # empty list\\nfruits = [\\\"apple\\\", \\\"banana\\\"]  # list with 2 elements\\nanother_list = [\\n    \\\"This is string\\\",\\n    10,\\n    \\\"Machine Learning\\\",\\n]  # List different types of elements\\n\\nprint(fruits)\\nprint(another_list)\";\n",
       "                var nbb_formatted_code = \"fruits = []  # empty list\\nfruits = [\\\"apple\\\", \\\"banana\\\"]  # list with 2 elements\\nanother_list = [\\n    \\\"This is string\\\",\\n    10,\\n    \\\"Machine Learning\\\",\\n]  # List different types of elements\\n\\nprint(fruits)\\nprint(another_list)\";\n",
       "                var nbb_cells = Jupyter.notebook.get_cells();\n",
       "                for (var i = 0; i < nbb_cells.length; ++i) {\n",
       "                    if (nbb_cells[i].input_prompt_number == nbb_cell_id) {\n",
       "                        if (nbb_cells[i].get_text() == nbb_unformatted_code) {\n",
       "                             nbb_cells[i].set_text(nbb_formatted_code);\n",
       "                        }\n",
       "                        break;\n",
       "                    }\n",
       "                }\n",
       "            }, 500);\n",
       "            "
      ],
      "text/plain": [
       "<IPython.core.display.Javascript object>"
      ]
     },
     "metadata": {},
     "output_type": "display_data"
    }
   ],
   "source": [
    "fruits = []  # empty list\n",
    "fruits = [\"apple\", \"banana\"]  # list with 2 elements\n",
    "another_list = [\n",
    "    \"This is string\",\n",
    "    10,\n",
    "    \"Machine Learning\",\n",
    "]  # List different types of elements\n",
    "\n",
    "print(fruits)\n",
    "print(another_list)"
   ]
  },
  {
   "cell_type": "code",
   "execution_count": 72,
   "id": "521e872f",
   "metadata": {},
   "outputs": [
    {
     "name": "stdout",
     "output_type": "stream",
     "text": [
      "['apple', 'banana', 'orange', 'mango']\n"
     ]
    },
    {
     "data": {
      "application/javascript": [
       "\n",
       "            setTimeout(function() {\n",
       "                var nbb_cell_id = 72;\n",
       "                var nbb_unformatted_code = \"# add element to a list\\nfruits = [\\\"apple\\\", \\\"banana\\\"]\\nfruits.append(\\\"orange\\\")\\nfruits.append(\\\"mango\\\")\\nprint(fruits)\";\n",
       "                var nbb_formatted_code = \"# add element to a list\\nfruits = [\\\"apple\\\", \\\"banana\\\"]\\nfruits.append(\\\"orange\\\")\\nfruits.append(\\\"mango\\\")\\nprint(fruits)\";\n",
       "                var nbb_cells = Jupyter.notebook.get_cells();\n",
       "                for (var i = 0; i < nbb_cells.length; ++i) {\n",
       "                    if (nbb_cells[i].input_prompt_number == nbb_cell_id) {\n",
       "                        if (nbb_cells[i].get_text() == nbb_unformatted_code) {\n",
       "                             nbb_cells[i].set_text(nbb_formatted_code);\n",
       "                        }\n",
       "                        break;\n",
       "                    }\n",
       "                }\n",
       "            }, 500);\n",
       "            "
      ],
      "text/plain": [
       "<IPython.core.display.Javascript object>"
      ]
     },
     "metadata": {},
     "output_type": "display_data"
    }
   ],
   "source": [
    "# add element to a list\n",
    "fruits = [\"apple\", \"banana\"]\n",
    "fruits.append(\"orange\")\n",
    "fruits.append(\"mango\")\n",
    "print(fruits)"
   ]
  },
  {
   "cell_type": "code",
   "execution_count": 81,
   "id": "75771f00",
   "metadata": {},
   "outputs": [
    {
     "name": "stdout",
     "output_type": "stream",
     "text": [
      "fruits[0] : apple\n",
      "banana\n",
      "orange\n",
      "banana\n"
     ]
    },
    {
     "data": {
      "application/javascript": [
       "\n",
       "            setTimeout(function() {\n",
       "                var nbb_cell_id = 81;\n",
       "                var nbb_unformatted_code = \"# accessing list element\\nprint(\\\"fruits[0] :\\\", fruits[0])\\nprint(fruits[1])\\nprint(fruits[-2])\\nprint(fruits[-3])\";\n",
       "                var nbb_formatted_code = \"# accessing list element\\nprint(\\\"fruits[0] :\\\", fruits[0])\\nprint(fruits[1])\\nprint(fruits[-2])\\nprint(fruits[-3])\";\n",
       "                var nbb_cells = Jupyter.notebook.get_cells();\n",
       "                for (var i = 0; i < nbb_cells.length; ++i) {\n",
       "                    if (nbb_cells[i].input_prompt_number == nbb_cell_id) {\n",
       "                        if (nbb_cells[i].get_text() == nbb_unformatted_code) {\n",
       "                             nbb_cells[i].set_text(nbb_formatted_code);\n",
       "                        }\n",
       "                        break;\n",
       "                    }\n",
       "                }\n",
       "            }, 500);\n",
       "            "
      ],
      "text/plain": [
       "<IPython.core.display.Javascript object>"
      ]
     },
     "metadata": {},
     "output_type": "display_data"
    }
   ],
   "source": [
    "# accessing list element\n",
    "print(\"fruits[0] :\", fruits[0])\n",
    "print(fruits[1])\n",
    "print(fruits[-2])\n",
    "print(fruits[-3])"
   ]
  },
  {
   "cell_type": "code",
   "execution_count": 83,
   "id": "e1fc8c5c",
   "metadata": {},
   "outputs": [
    {
     "name": "stdout",
     "output_type": "stream",
     "text": [
      "hamzah\n"
     ]
    },
    {
     "data": {
      "text/plain": [
       "str"
      ]
     },
     "execution_count": 83,
     "metadata": {},
     "output_type": "execute_result"
    },
    {
     "data": {
      "application/javascript": [
       "\n",
       "            setTimeout(function() {\n",
       "                var nbb_cell_id = 83;\n",
       "                var nbb_unformatted_code = \"nama = \\\"hamzah\\\"\\nprint(nama)\\ntype(nama)\";\n",
       "                var nbb_formatted_code = \"nama = \\\"hamzah\\\"\\nprint(nama)\\ntype(nama)\";\n",
       "                var nbb_cells = Jupyter.notebook.get_cells();\n",
       "                for (var i = 0; i < nbb_cells.length; ++i) {\n",
       "                    if (nbb_cells[i].input_prompt_number == nbb_cell_id) {\n",
       "                        if (nbb_cells[i].get_text() == nbb_unformatted_code) {\n",
       "                             nbb_cells[i].set_text(nbb_formatted_code);\n",
       "                        }\n",
       "                        break;\n",
       "                    }\n",
       "                }\n",
       "            }, 500);\n",
       "            "
      ],
      "text/plain": [
       "<IPython.core.display.Javascript object>"
      ]
     },
     "metadata": {},
     "output_type": "display_data"
    }
   ],
   "source": [
    "nama = \"hamzah\"\n",
    "print(nama)\n",
    "type(nama)"
   ]
  },
  {
   "cell_type": "code",
   "execution_count": 4,
   "id": "47347c8e",
   "metadata": {},
   "outputs": [
    {
     "name": "stdout",
     "output_type": "stream",
     "text": [
      "Hamzah\n",
      "Brebes, Indonesia\n",
      "makan dan Tidur\n",
      "luas Segita adalah 10.0\n"
     ]
    }
   ],
   "source": [
    "# membuat 2 buah fungsi \n",
    "# 1. Tidak mengembalikan nilai yang mencetak (\"nama, alamat, hobi\")\n",
    "# 2. fungsi mengembalikan nilai (\"hitung luas segitiga\")\n",
    "\n",
    "nama = \"Hamzah\"\n",
    "alamat = \"Brebes, Indonesia\"\n",
    "hobi = \"makan dan Tidur\"  # string\n",
    "\n",
    "print(nama)\n",
    "print(alamat)\n",
    "print(hobi)\n",
    "\n",
    "\n",
    "def luas_segitiga(alas, tinggi):\n",
    "  luas = (alas * tinggi) / 2\n",
    "  print(\"luas Segita adalah\", luas);\n",
    "\n",
    "# Pemangilan fungsi\n",
    "luas_segitiga(5, 4)\n"
   ]
  }
 ],
 "metadata": {
  "kernelspec": {
   "display_name": "Python 3",
   "language": "python",
   "name": "python3"
  },
  "language_info": {
   "codemirror_mode": {
    "name": "ipython",
    "version": 3
   },
   "file_extension": ".py",
   "mimetype": "text/x-python",
   "name": "python",
   "nbconvert_exporter": "python",
   "pygments_lexer": "ipython3",
   "version": "3.8.8"
  }
 },
 "nbformat": 4,
 "nbformat_minor": 5
}
